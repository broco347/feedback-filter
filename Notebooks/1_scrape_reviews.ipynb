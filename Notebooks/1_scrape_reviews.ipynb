{
 "cells": [
  {
   "cell_type": "markdown",
   "metadata": {},
   "source": [
    "### Import Modules"
   ]
  },
  {
   "cell_type": "code",
   "execution_count": 84,
   "metadata": {},
   "outputs": [],
   "source": [
    "from bs4 import BeautifulSoup\n",
    "import pandas as pd\n",
    "import re\n",
    "import time\n",
    "import pickle\n",
    "from project4 import pickle_stuff"
   ]
  },
  {
   "cell_type": "markdown",
   "metadata": {},
   "source": [
    "### Scrape G2"
   ]
  },
  {
   "cell_type": "code",
   "execution_count": 85,
   "metadata": {},
   "outputs": [],
   "source": [
    "g2_star_ratings = []\n",
    "g2_product_reviews = []\n",
    "def get_reviews_g2():\n",
    "    driver = webdriver.Chrome('/Applications/chromedriver')\n",
    "    page = 0\n",
    "    while page <= 3:\n",
    "        page += 1\n",
    "        g2_url = 'https://www.g2.com/products/' + 'ncr-aloha-pos' + '/reviews?page=' + str(page)\n",
    "        driver.get(g2_url)\n",
    "        \n",
    "        soup = BeautifulSoup(driver.page_source, 'html.parser')        \n",
    "        review = str(soup.find_all('div', {'itemprop': 'reviewBody'}))\n",
    "        g2_product_reviews.append(review)\n",
    "        \n",
    "        star = str(soup.find_all('div', {'class':'f-1 d-f ai-c mb-half--small-only'}))\n",
    "        g2_star_ratings.append(star)\n",
    "        \n",
    "        all_g2_ratings = []\n",
    "        for rating in g2_star_ratings:\n",
    "            result = re.findall('(?<=stars large stars-)(.*?)(?=\")', rating)\n",
    "            all_g2_ratings.append(result)\n",
    "        \n",
    "    time.sleep(5)\n",
    "    driver.close()\n",
    "    \n",
    "get_reviews_g2()"
   ]
  },
  {
   "cell_type": "markdown",
   "metadata": {},
   "source": [
    "#### Grab Star Ratings from HTML"
   ]
  },
  {
   "cell_type": "code",
   "execution_count": 86,
   "metadata": {},
   "outputs": [],
   "source": [
    "all_g2_ratings = []\n",
    "for rating in g2_star_ratings:\n",
    "    result = re.findall('(?<=stars large stars-)(.*?)(?=\")', rating)\n",
    "    all_g2_ratings.append(result)\n",
    "stars = [item for sublist in all_g2_ratings for item in sublist]\n",
    "\n",
    "ratings = []\n",
    "for star in stars:\n",
    "    ratings.append(int(star))  "
   ]
  },
  {
   "cell_type": "markdown",
   "metadata": {},
   "source": [
    "#### Grab Reviews from HTML"
   ]
  },
  {
   "cell_type": "code",
   "execution_count": 87,
   "metadata": {},
   "outputs": [
    {
     "data": {
      "text/plain": [
       "165"
      ]
     },
     "execution_count": 87,
     "metadata": {},
     "output_type": "execute_result"
    }
   ],
   "source": [
    "helper = []\n",
    "for string in g2_product_reviews:\n",
    "    sub_string = string.split('div>, ')\n",
    "    helper.append(sub_string)\n",
    "reviews = [item for sublist in helper for item in sublist]\n",
    "len(reviews)"
   ]
  },
  {
   "cell_type": "code",
   "execution_count": 58,
   "metadata": {},
   "outputs": [],
   "source": [
    "#g2_product_reviews"
   ]
  },
  {
   "cell_type": "markdown",
   "metadata": {},
   "source": [
    "#### Combine Reviewer Id and Star Rating in DataFrame"
   ]
  },
  {
   "cell_type": "code",
   "execution_count": 88,
   "metadata": {},
   "outputs": [],
   "source": [
    "reviewer = list(range(165))\n",
    "ratings_table = pd.DataFrame(zip(reviewer, ratings)).rename(columns={0: \"reviewer\", 1: \"rating\"})"
   ]
  },
  {
   "cell_type": "markdown",
   "metadata": {},
   "source": [
    "#### Clean Up Reviews"
   ]
  },
  {
   "cell_type": "code",
   "execution_count": 89,
   "metadata": {},
   "outputs": [],
   "source": [
    "all_g2_reviews = []\n",
    "for review in reviews:\n",
    "    result = re.findall('(?<=text\">).*?(?=<)', review)\n",
    "    all_g2_reviews.append(result)"
   ]
  },
  {
   "cell_type": "code",
   "execution_count": 3,
   "metadata": {},
   "outputs": [],
   "source": [
    "len(all_g2_reviews)"
   ]
  },
  {
   "cell_type": "markdown",
   "metadata": {},
   "source": [
    "#### Merge Reviews to DataFrame"
   ]
  },
  {
   "cell_type": "code",
   "execution_count": 91,
   "metadata": {},
   "outputs": [],
   "source": [
    "g2_reviews_flat = [item for sublist in all_g2_reviews for item in sublist]"
   ]
  },
  {
   "cell_type": "code",
   "execution_count": 92,
   "metadata": {},
   "outputs": [],
   "source": [
    "g2_reviews_flat_mod = {item:[index] for index,sublist in enumerate(all_g2_reviews) for item in sublist}"
   ]
  },
  {
   "cell_type": "code",
   "execution_count": 93,
   "metadata": {},
   "outputs": [],
   "source": [
    "x = pd.DataFrame(g2_reviews_flat_mod).T.reset_index().rename(columns={\"index\": \"text\", 0: \"reviewer\"})"
   ]
  },
  {
   "cell_type": "code",
   "execution_count": 94,
   "metadata": {},
   "outputs": [],
   "source": [
    "df = x.merge(ratings_table, how='left', on = 'reviewer')"
   ]
  },
  {
   "cell_type": "code",
   "execution_count": 49,
   "metadata": {},
   "outputs": [],
   "source": [
    "# filepath = '/Users/tim/src/Metis/Project_4/data/interim/aloha_g2_reviews.pkl'\n",
    "# with open(filepath, 'wb') as pkl:\n",
    "#     pickle.dump(df, pkl)"
   ]
  },
  {
   "cell_type": "markdown",
   "metadata": {},
   "source": [
    "### Scrape Capterra"
   ]
  },
  {
   "cell_type": "code",
   "execution_count": 95,
   "metadata": {},
   "outputs": [],
   "source": [
    "capt_product_reviews = []\n",
    "def get_reviews_capterra():\n",
    "    driver = webdriver.Chrome('/Applications/chromedriver')\n",
    "   \n",
    "    capt_url = 'https://www.capterra.com/p/178748/Aloha/#reviews'\n",
    "    driver.get(capt_url)\n",
    "    soup = BeautifulSoup(driver.page_source, 'html.parser')        \n",
    "    review = str(soup.find_all('div', {'class': \"review-comments color-text\"}))\n",
    "    capt_product_reviews.append(review)\n",
    "\n",
    "    time.sleep(5)\n",
    "    driver.close()\n",
    "    \n",
    "get_reviews_capterra()"
   ]
  },
  {
   "cell_type": "markdown",
   "metadata": {},
   "source": [
    "#### Grab Reviews from HTML"
   ]
  },
  {
   "cell_type": "code",
   "execution_count": 101,
   "metadata": {},
   "outputs": [],
   "source": [
    "helper = []\n",
    "for string in capt_product_reviews:\n",
    "    sub_string = string.split('div>, ')\n",
    "    helper.append(sub_string)\n",
    "reviews_capt = [item for sublist in helper for item in sublist]"
   ]
  },
  {
   "cell_type": "code",
   "execution_count": 102,
   "metadata": {},
   "outputs": [],
   "source": [
    "all_capt_reviews = []\n",
    "for review in reviews_capt:\n",
    "    result = re.findall('(?<=\\/strong>).*?(?=<)', review)\n",
    "    all_capt_reviews.append(result)"
   ]
  },
  {
   "cell_type": "code",
   "execution_count": 104,
   "metadata": {},
   "outputs": [
    {
     "data": {
      "text/plain": [
       "29"
      ]
     },
     "execution_count": 104,
     "metadata": {},
     "output_type": "execute_result"
    }
   ],
   "source": [
    "len(all_capt_reviews)"
   ]
  },
  {
   "cell_type": "markdown",
   "metadata": {},
   "source": [
    "#### Combine Reviewer Id and Review in DataFrame"
   ]
  },
  {
   "cell_type": "code",
   "execution_count": 105,
   "metadata": {},
   "outputs": [],
   "source": [
    "capt_reviews_flat = [item for sublist in all_capt_reviews for item in sublist]\n",
    "capt_reviews_flat_mod = {item:[index+166] for index,sublist in enumerate(all_capt_reviews) for item in sublist}\n",
    "x_capt = pd.DataFrame(capt_reviews_flat_mod).T.reset_index().rename(columns={\"index\": \"text\", 0: \"reviewer\"})"
   ]
  },
  {
   "cell_type": "code",
   "execution_count": 107,
   "metadata": {},
   "outputs": [],
   "source": [
    "df= df.append(x_capt)"
   ]
  },
  {
   "cell_type": "code",
   "execution_count": 108,
   "metadata": {},
   "outputs": [],
   "source": [
    "filepath = '/Users/tim/src/Metis/Project_4/data/interim/aloha_reviews2.pkl'\n",
    "with open(filepath, 'wb') as pkl:\n",
    "    pickle.dump(df, pkl)"
   ]
  }
 ],
 "metadata": {
  "kernelspec": {
   "display_name": "Python 3",
   "language": "python",
   "name": "python3"
  },
  "language_info": {
   "codemirror_mode": {
    "name": "ipython",
    "version": 3
   },
   "file_extension": ".py",
   "mimetype": "text/x-python",
   "name": "python",
   "nbconvert_exporter": "python",
   "pygments_lexer": "ipython3",
   "version": "3.7.3"
  },
  "toc": {
   "base_numbering": 1,
   "nav_menu": {},
   "number_sections": true,
   "sideBar": true,
   "skip_h1_title": false,
   "title_cell": "Table of Contents",
   "title_sidebar": "Contents",
   "toc_cell": false,
   "toc_position": {},
   "toc_section_display": true,
   "toc_window_display": false
  },
  "varInspector": {
   "cols": {
    "lenName": 16,
    "lenType": 16,
    "lenVar": 40
   },
   "kernels_config": {
    "python": {
     "delete_cmd_postfix": "",
     "delete_cmd_prefix": "del ",
     "library": "var_list.py",
     "varRefreshCmd": "print(var_dic_list())"
    },
    "r": {
     "delete_cmd_postfix": ") ",
     "delete_cmd_prefix": "rm(",
     "library": "var_list.r",
     "varRefreshCmd": "cat(var_dic_list()) "
    }
   },
   "types_to_exclude": [
    "module",
    "function",
    "builtin_function_or_method",
    "instance",
    "_Feature"
   ],
   "window_display": false
  }
 },
 "nbformat": 4,
 "nbformat_minor": 2
}
