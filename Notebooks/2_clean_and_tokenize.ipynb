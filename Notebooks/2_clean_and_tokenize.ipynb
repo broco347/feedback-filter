{
 "cells": [
  {
   "cell_type": "markdown",
   "metadata": {},
   "source": [
    "### Import Modules and Data"
   ]
  },
  {
   "cell_type": "code",
   "execution_count": 30,
   "metadata": {},
   "outputs": [],
   "source": [
    "import pickle\n",
    "import pandas as pd\n",
    "\n",
    "import nltk\n",
    "from nltk import sent_tokenize\n",
    "from nltk.tokenize import MWETokenizer\n",
    "from nltk.corpus import stopwords\n",
    "\n",
    "from sklearn.feature_extraction.text import CountVectorizer, TfidfVectorizer\n",
    "\n",
    "from project4 import processing, display_topics, inertia_curve, display_cluster, pickle_stuff, group_by_sentiment"
   ]
  },
  {
   "cell_type": "code",
   "execution_count": 31,
   "metadata": {},
   "outputs": [],
   "source": [
    "filepath = '/Users/tim/src/Metis/Project_4/data/interim/aloha_reviews2.pkl'\n",
    "with open(filepath, 'rb') as pkl:\n",
    "    df = pickle.load(pkl)\n",
    "    \n",
    "pd.options.display.max_colwidth = 1000"
   ]
  },
  {
   "cell_type": "code",
   "execution_count": 32,
   "metadata": {
    "scrolled": false
   },
   "outputs": [
    {
     "data": {
      "text/plain": [
       "0                                                                                                                                                                                                                                        Aloha has been awful for my business, and I believe the root source is NCR. The only thing that I like about it is that I have some familiarity with the system. Besides that, we keep encountering new problems with the software and the hardware. I've had 2 of my 6 brand new terminals replaced after they went bad and corrupted my whole system. It has not been good for business what so ever. \n",
       "1                                                                                                                                                                                                                                                                                                                                                       I can't stand NCR. Their customer service is dreadful. All service calls that I make during the operating hours of my restaurant are all outsourced over seas and it is very frustrating trying to work with them. The local office never follows up on any service calls that we submit.\n",
       "2                                                                                                                                                                                                                                                                                                                                                                                                                                                                                                          All service calls are handled very poorly, and the local office has proven to be difficult for me and my management team to work with.\n",
       "3                                                                                                                                                                                                                                                                                                                                                                                        Aloha has created more problems than it's solved. We are still having a hard time with programming months after we have opened. There seems to be a problem with NCR techs loading old backup points which erases all the programming that we are doing.\n",
       "4                                                                                                                                                                                                                                                                                                                                                                                                                                                                                   Aloha is pretty user friendly for staff &amp; like that I can add modifiers to help encourage up-selling.  Usually get a helpful programmer when need help.  \n",
       "5                                                                                                       Was frustrating to have our entire database copied from a location that has been open for almost 20 years.  So it takes a really long time to reboot.  Took a long time to work out all the errors &amp; learn how to do all the programming.  Not a computer person but I can usually figure things out.  Really expensive for help desk calls so only reach out when absolutely necessary.  Frustrating when get a programmer that doesn't know the answers to my questions &amp; have to get charged extra while they figure it out.  \n",
       "6                                                                                                                                                                                                                                                                                                                                                                                                                                                                                                                                                                                        Expensive &amp; can be difficult to program without help\n",
       "7                                                                                                                                                                                                                                                                                                                                        Able to ring guests up quickly &amp; start tabs if necessary.  Clock in control helps keep employees from clocking in too early.  Modifier menus help encourage staff to up-sell.  Security controls help keep staff from discounting/comp'ing things they shouldn't have access to or refunding cash.  \n",
       "8                                                                                                                                                                                                                                                                                                                                                                          Software that is designed for our business with everything we need.  Anything we can think of that we would want is available in the software.  From the back end to the front of house and all the cloud products we use it's very easy to use and works well for us.\n",
       "9                                                                                                                                                                                                   I am having trouble thinking of anything in the software.  Our biggest challenge is the system not being chip card ready.  I know it's in the works but I feel like as big as NCR is that it should have been available to us long before now and we are still waiting on it.  We know in other areas of NCR chip card technology is available so it's hard to understand why it's so far behind in the table service hospatility enviroment.\n",
       "10                                                                                                                                                                                                                                                                                                                                                                                                                                                                                                                                                                                              They're an A+ company and should meet your needs.\n",
       "11                                                                                                                                                                                                                                                                                                                                                                                                                                                                                                                                                                                                         It basically runs our entire business.\n",
       "12                                                                                                                                                                                                                                                                                                                                                                                                       I like that it is easy to navigate. It isn't so complicated to the point where it's hard to learn or teach and mostly everything I need is there. I can modify an order and even use different methods of payment to complete one check.\n",
       "13                                                                                                              I don't like how every time we had a special going on at work for our POS, it was like pulling teeth to get it to be put on our register so we could actually have a customized button for whatever it was. Also, aloha could not get it's systems to work along side our licensed store's system, which was Starbucks, so no one could redeem free drinks even though we were a starbucks, because we were inside another store and that store used aloha. Also it took years for them to figure out how to hook up our scanners\n",
       "14                                                                                                                                                                                                                                                                                                                                                                                                                                                                          Find something that is more customizeable, more compatible with other platforms, and easier to use and navigate. I feel like aloha \"gets the job done\" and that's it.\n",
       "15                                                                                                                                                                                                                                                                                                                                                                                                                                                                           I guess the only problem we solve with aloha is the fact that we are able to ring people out for the products and goods they are buying otherwise we'd be cash only.\n",
       "16                                                                                                                                                                                                                                                                                                                                                                                                Reliability, it has not gone down in years. Strong customer support from BEC of Denver since it was first installed. It is user friendly for servers and management. It increases speed of service. Communicates orders to the kitchen clearly.\n",
       "17                                                                                                                                                                                                                                                                                                                                                                                                                                                                                                                                                             Aloha has served us very well for over two decades and I expect that to continue. \n",
       "18                                                                                                                                                                                                                                                                                                                                                                                                                                                                                                                                                                     It increases speed of service. Communicates orders to the kitchen clearly.\n",
       "19                                                                                                                                                                                                                                                                                                               Aloha has Industry leading functionality and interfaces with most third party software.  There is generally local support available, either through a dealer or independent contractors.  Restaurant staff has probably used it before and is familiar with the functionality.  Config Center is a great tool for managing menus\n",
       "20                                                                                                                                                                                                                                                                                                                                                                                                                                                                                          Every tool is an add on and an additional cost which makes the solution very expensive.  Traditional Windows POS is expensive to acquire and support.\n",
       "21                                                                                                                                                                                                                                                                                                                                                                                                                                                There are probably better and less expensive solutions on the market for small operators.  Aloha can be cumbersome to build and support but it remains one of the best options for large chains\n",
       "22                                                                                                                                                                                                                                                                                                                                                                                                                                                                                                                                             Solid POS functionality with good interfaces to online ordering and above store reporting tools.  \n",
       "23                                                                                                                                                                                                                                                                                                                                                                                                                I appreciate all the plug ins and extras you can have that work with Aloha.  They are one of the biggest so when you need something - i.e. virtual gift card , you have the ability to pick from different third party options.\n",
       "24    Enterprise is so intense. If you need a report you have to scan through hundreds of them to get what you need.  At this point I've started using the data exports for everything.  I don't like how you are forced to use a reseller based on your territory. If our reseller isn't living up to our needs we would like to be able to get someone who can help.  You would also think with Aloha being the biggest POS the simple restaurant industry specific needs would be easy to obtain.  i.e. making sure payroll reports use the correct overtime rates, being able to do tips on checks without manual manipulation of reports etc\n",
       "25                                                                                                                                                                                                                                                                                                                                                                                                                                                                                    Consider what your big picture is.  Make sure you set up your database with thoughts of the future even if you don't know what that future exactly is yet. \n",
       "26                                                                                                                                                                                                                                                                                                                                                                                                                                                                                   They plug in with our payroll company and our outsourced accounting company.  So we don't have to send files these companies can directly access our data.  \n",
       "27                                                                                                                                                                                                                                                                                                                                                                                                                                                                                                                                                        I like how detailed some of the reports are and what you are able to do with the system\n",
       "28                                                                                                                                                                                                                                                                                                                                                                                                        I HATE that we cant customize any reports and that when we need anything we have to start at level 1, who 99.9% of the time know less that I do about the Aloha system at this point and almost always have to escalate me to level 2. \n",
       "29                                                              Aloha in my opinion feels like they are the biggest player in the game, therefore they can slack on customer service and customization. We were told we could get 15 years out of our system and had to upgrade after 8. They have no solution for pay at the table with EMV as of now, and players like Oracle have already started releasing products of this magnitude. They also continue to blame our credit card processor for that, while the credit card processor says the same thing about Aloha. A lot of blame game and no answers are what we get most of the time. \n",
       "                                                                                                                                                                                                                                                                                                                         ...                                                                                                                                                                                                                                                                                                                     \n",
       "40                                                                                                                                                                                                                                                                                                                                                                                                                                                                                                               It does what you need it to do and it is a solid piece of equipment. Slightly outdated in my opinion but still one of the best. \n",
       "41                                                                                                                                                                                                                                                                                                                                                                                                                                                                                                                                                                      Seems outdated especially with all of the cloud software available today.\n",
       "42                                                                                                                                                                                                                                                                                                                                                                                                                                                                                                                                        I use aloha daily.  The formatting of the program is very easy to use without much of any instruction. \n",
       "43                                                                                                                                                                                                                                                                                                                                                                                                                                                                                                                                          Should have a way to view even after the system starts a refresh. That would be my biggest complaint.\n",
       "44                                                                                                                                                                                                                                                                                                                                                                                                                                                                                                       Aloha allowed me to work quickly and efficiently as a waitress in a fast paced restaurant. Aloha never froze up or had to be restarted. \n",
       "45                                                                                                                                                                                                                                                                                                                                                                                                                                                                         What I liked least about Aloha was that some of the buttons seemed out of place, I think overall the buttons could be organized in a more neat and organized fashion. \n",
       "46                                                                                                                                                                                                                                                                                                                                                                                                                                                                                                                                                                                        Ease with front-of-the-house interaction and training. \n",
       "47                                                                                                                                                                                                                                                                                                                                                                                                                                                                                                                                                                               Old, antiquated technology and non-responsive customer service. \n",
       "48                                                                                                                                                                                                                                                                                                                                                                                  Since NCR has taken control of Aloha, the customer service has taken a severe nosedive. They are constantly \"escalating\" the issues to teams that never seem to get back to you.  Management and \"local\" support has zero support or care for your problems. \n",
       "49                                                                                                                                                                                                                                                                                                                                                                                                                                                                     this is my number one recommended software for restaurants and bars. it is very easy to use whether you are the admin doing the adjustments or the user putting in order. \n",
       "50                                                                                                                                                                                                                                                                                                                                                                                                                                                                                                                                                         sometimes we have issues with new updates and getting new options put in to the system\n",
       "51                                                                                                                                                                                                                                                                                                                                                                                                                                                                                                                                                 Unfortunately, I don't feel as though I have any nice things to say about Aloha at this time. \n",
       "52                                                                                                                                                                                                                                                                                                                                                                                                                                                                                      There is a non-existant customer support, nearly impossible to extract data or reports, not customer friendly and inconsistent. Service goes down a lot. \n",
       "53                                                                                                                                                                                                                                                                                                                                                                                                                                                                                                                                                                               Aloha is dated so it makes it easier for senior citizens to use.\n",
       "54                                                                                                                                                                                                                                                                                                                                                                          Everything. Aloha has next to no functions that a current POS system in the food service industry should have. It really is a waste of time trying to use it and I would tell anyone considering using it in their restaurant that they are making a MASSIVE mistake.\n",
       "55                                                                                                                                                                                                                                                                                                                                                                                                                                                                                                                                                                           You can not solve any problems with Aloha, you can only create them.\n",
       "56                                                                                                                                                                                                                                                                                                                                                                                                                                Used this software while working as a server at a restaurant. This was my first experience as a server and using the software. Made my job very easy and learned how to use this software my first go with it. \n",
       "57                                                                                                                                                                                                                                                                                                                                                                                                                                                                                                                                                                                               Never had any issues while using this software. \n",
       "58                                                                                                                                                                                                                                                                                                                                                                                                                                                                                                                                                                                         Old version very easy to operate best in the industry \n",
       "59                                                                                                                                                                                                                                                                                                                                                                                                                                                                                                                                                  New versions more complicated back of house very difficult became that way when NCR took over\n",
       "60                                                                                                                                                                                                                                                                                                                                                                                                                                                                                                                                                                    In the beginning could not be happier now with upgrades would not get again\n",
       "61                                                                                                                                                                                                                                                                                                                                                                                                                                                                          Aloha simply does nearly whatever you need it to. It truly is an industry standard within bars/restaurants.  Ease of use, simple \"buttons\", and very easily navigated\n",
       "62                                                                                                                                                                                                                                                                                                                                                                                                                                                                                                                                                  In the capacity I used it at the restaurant, there were no glaring \"cons\" with day-to-day use\n",
       "63                                                                                                                                                                                                                                                                                                                                                                                                                                                                                                Aloha is pretty simple. The buttons are easy to find and once you familiarize yourself with where everything is, there's nothing hard about it.\n",
       "64                                                                                                                                                                                                                                                                                                                                                                                                                             Aloha is slow and crashed quite a bit. It was hard to go in and change anything on the screens for the employees and if you had to make a change, everything had to be restarted and took forever to come back up.\n",
       "65                                                                                                                                                                                                                                                                                                                                                                                                                                                                                                 Decent POS, quick, easy to navigate. Beats Micros and Digital Dining by miles, but not quite best on the market (that's Toast, in my opinion).\n",
       "66                                                                                                                                                                                                                                                                                                                                                                                                                                                                                                                                                                                            No frills, but that can be a pro or a con, really. \n",
       "67                                                                                                                                                                                                                                                                                                                                                                                                                                                                                                                                                                                                        Good for the money and for what it is. \n",
       "68                                                                                                                                                                                                                                                                                                                                                                                                                                                                                                                                                                                                 There is nothing amazing about this software. \n",
       "69                                                                                                                                                                                                                                                                                                                                                                                                                                                        It requires a lot of configuration and doesn't give the owner/admin much flexibility - everything must go through the reseller and the charge A LOT of money to do the smallest change.\n",
       "Name: text, Length: 627, dtype: object"
      ]
     },
     "execution_count": 32,
     "metadata": {},
     "output_type": "execute_result"
    }
   ],
   "source": [
    "raw_reviews = df['text']"
   ]
  },
  {
   "cell_type": "markdown",
   "metadata": {},
   "source": [
    "### Clean Data"
   ]
  },
  {
   "cell_type": "code",
   "execution_count": null,
   "metadata": {},
   "outputs": [],
   "source": [
    "processed_text = processing(raw_reviews)"
   ]
  },
  {
   "cell_type": "code",
   "execution_count": null,
   "metadata": {},
   "outputs": [],
   "source": [
    "filepath = '/Users/tim/src/Metis/Project_4/data/interim/processed_text.pkl'\n",
    "with open(filepath, 'wb') as pkl:\n",
    "    pickle.dump(processed_text, pkl)"
   ]
  },
  {
   "cell_type": "code",
   "execution_count": 3,
   "metadata": {},
   "outputs": [],
   "source": [
    "# filepath = '/Users/tim/src/Metis/Project_4/data/interim/processed_text.pkl'\n",
    "# with open(filepath, 'rb') as pkl:\n",
    "#     processed_text = pickle.load(pkl)"
   ]
  },
  {
   "cell_type": "markdown",
   "metadata": {},
   "source": [
    "### Tokenize"
   ]
  },
  {
   "cell_type": "code",
   "execution_count": 4,
   "metadata": {},
   "outputs": [
    {
     "data": {
      "text/plain": [
       "825"
      ]
     },
     "execution_count": 4,
     "metadata": {},
     "output_type": "execute_result"
    }
   ],
   "source": [
    "mwe_tokenizer = MWETokenizer([('customer','service'), ('hard', 'to'), ('service', 'calls'),\n",
    "                             ('over', 'seas'), ('follows', 'up'), ('user', 'friendly'), ('long','time'), \n",
    "                             ('front', 'of', 'house'), ('back', 'of', 'house'), ('behind', 'the', 'times'),\n",
    "                             ('out', 'of', 'date'), ('easy', 'to')])\n",
    "sent_token = mwe_tokenizer.tokenize(sent_tokenize(processed_text))\n",
    "len(sent_token)"
   ]
  },
  {
   "cell_type": "markdown",
   "metadata": {},
   "source": [
    "### Vectorize Data"
   ]
  },
  {
   "cell_type": "code",
   "execution_count": 17,
   "metadata": {},
   "outputs": [],
   "source": [
    "stopset = set(nltk.corpus.stopwords.words('english'))\n",
    "new_list= ('pos', 'aloha')\n",
    "stopset.update(new_list)\n",
    "#stopset"
   ]
  },
  {
   "cell_type": "markdown",
   "metadata": {},
   "source": [
    "#### Unigrams"
   ]
  },
  {
   "cell_type": "code",
   "execution_count": 18,
   "metadata": {},
   "outputs": [],
   "source": [
    "cv = CountVectorizer(stop_words=stopset)\n",
    "cv_tfidf = TfidfVectorizer(stop_words=stopset)\n",
    "\n",
    "x_cv = cv.fit_transform(sent_token)\n",
    "x_tfidf = cv_tfidf.fit_transform(sent_token).toarray()\n",
    "\n",
    "cv_vector = pd.DataFrame(x_cv.toarray(), columns=cv.get_feature_names())\n",
    "tf_vector = pd.DataFrame(x_tfidf,columns=cv_tfidf.get_feature_names())"
   ]
  },
  {
   "cell_type": "code",
   "execution_count": 19,
   "metadata": {},
   "outputs": [],
   "source": [
    "vectors = {}\n",
    "vectors['cv_vector'] = cv_vector\n",
    "vectors['tf_vector'] = tf_vector"
   ]
  },
  {
   "cell_type": "code",
   "execution_count": 20,
   "metadata": {},
   "outputs": [],
   "source": [
    "pickle_stuff(vectors)"
   ]
  },
  {
   "cell_type": "markdown",
   "metadata": {},
   "source": [
    "#### Bigrams"
   ]
  },
  {
   "cell_type": "code",
   "execution_count": 21,
   "metadata": {},
   "outputs": [],
   "source": [
    "gram2_cv = CountVectorizer(ngram_range=(2, 2), stop_words = stopset)\n",
    "x_gram2_cv = gram2_cv.fit_transform(sent_token)\n",
    "gram2_cv_vector = pd.DataFrame(x_gram2_cv.toarray(), columns=gram2_cv.get_feature_names())"
   ]
  },
  {
   "cell_type": "code",
   "execution_count": 22,
   "metadata": {},
   "outputs": [],
   "source": [
    "gram2_tf = TfidfVectorizer(ngram_range=(2, 2), stop_words = stopset)\n",
    "x_gram2_tf = gram2_tf.fit_transform(sent_token)\n",
    "gram2_tf_vector = pd.DataFrame(x_gram2_tf.toarray(), columns=gram2_tf.get_feature_names())"
   ]
  },
  {
   "cell_type": "code",
   "execution_count": 23,
   "metadata": {},
   "outputs": [],
   "source": [
    "vectors = {}\n",
    "vectors['gram2_cv_vector'] = gram2_cv_vector\n",
    "vectors['gram2_tf_vector'] = gram2_tf_vector"
   ]
  },
  {
   "cell_type": "code",
   "execution_count": 24,
   "metadata": {},
   "outputs": [],
   "source": [
    "pickle_stuff(vectors)"
   ]
  },
  {
   "cell_type": "markdown",
   "metadata": {},
   "source": [
    "#### Trigrams"
   ]
  },
  {
   "cell_type": "code",
   "execution_count": 25,
   "metadata": {},
   "outputs": [],
   "source": [
    "gram3_cv = CountVectorizer(ngram_range=(3, 3), stop_words = stopset)\n",
    "x_gram3_cv = gram3_cv.fit_transform(sent_token)\n",
    "gram3_cv_vector = pd.DataFrame(x_gram3_cv.toarray(), columns=gram3_cv.get_feature_names())"
   ]
  },
  {
   "cell_type": "code",
   "execution_count": 26,
   "metadata": {},
   "outputs": [],
   "source": [
    "gram3_tf = TfidfVectorizer(ngram_range=(3, 3), stop_words = stopset)\n",
    "x_gram3_tf = gram3_tf.fit_transform(sent_token)\n",
    "gram3_tf_vector = pd.DataFrame(x_gram3_tf.toarray(), columns=gram3_tf.get_feature_names())"
   ]
  },
  {
   "cell_type": "code",
   "execution_count": 27,
   "metadata": {},
   "outputs": [],
   "source": [
    "vectors = {}\n",
    "vectors['gram3_cv_vector'] = gram3_cv_vector\n",
    "vectors['gram3_tf_vector'] = gram3_tf_vector"
   ]
  },
  {
   "cell_type": "code",
   "execution_count": 28,
   "metadata": {},
   "outputs": [],
   "source": [
    "pickle_stuff(vectors)"
   ]
  },
  {
   "cell_type": "code",
   "execution_count": null,
   "metadata": {},
   "outputs": [],
   "source": []
  }
 ],
 "metadata": {
  "kernelspec": {
   "display_name": "Python 3",
   "language": "python",
   "name": "python3"
  },
  "toc": {
   "base_numbering": 1,
   "nav_menu": {},
   "number_sections": true,
   "sideBar": true,
   "skip_h1_title": false,
   "title_cell": "Table of Contents",
   "title_sidebar": "Contents",
   "toc_cell": false,
   "toc_position": {},
   "toc_section_display": true,
   "toc_window_display": false
  },
  "varInspector": {
   "cols": {
    "lenName": 16,
    "lenType": 16,
    "lenVar": 40
   },
   "kernels_config": {
    "python": {
     "delete_cmd_postfix": "",
     "delete_cmd_prefix": "del ",
     "library": "var_list.py",
     "varRefreshCmd": "print(var_dic_list())"
    },
    "r": {
     "delete_cmd_postfix": ") ",
     "delete_cmd_prefix": "rm(",
     "library": "var_list.r",
     "varRefreshCmd": "cat(var_dic_list()) "
    }
   },
   "types_to_exclude": [
    "module",
    "function",
    "builtin_function_or_method",
    "instance",
    "_Feature"
   ],
   "window_display": false
  }
 },
 "nbformat": 4,
 "nbformat_minor": 2
}
